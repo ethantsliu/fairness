{
 "cells": [
  {
   "cell_type": "code",
   "execution_count": 1,
   "metadata": {},
   "outputs": [],
   "source": [
    "import os\n",
    "import pandas as pd\n",
    "import pyreadstat"
   ]
  },
  {
   "cell_type": "code",
   "execution_count": 2,
   "metadata": {},
   "outputs": [],
   "source": [
    "# Define input and output directories\n",
    "raw_data_dir = \"/Users/aakashsuresh/fairness/nhanes_2017_2020_raw_data/\"\n",
    "output_dir = \"/Users/aakashsuresh/fairness/processed_data_nhanes_lab/\""
   ]
  },
  {
   "cell_type": "code",
   "execution_count": 3,
   "metadata": {},
   "outputs": [],
   "source": [
    "# Define relevant files to process\n",
    "files_to_process = {\n",
    "    \"fasting_questionnaire\": \"P_FASTQX.XPT\",\n",
    "    \"fasting_glucose\": \"P_GLU.XPT\",\n",
    "    \"glycohemoglobin\": \"P_GHB.XPT\",\n",
    "    \"insulin\": \"P_INS.XPT\",\n",
    "    \"biochemistry_profile\": \"P_BIOPRO.XPT\",\n",
    "    \"iron_status\": \"P_FETIB.XPT\",\n",
    "    \"c_reactive_protein\": \"P_HSCRP.XPT\",\n",
    "    \"cotinine\": \"P_COT.XPT\",\n",
    "}"
   ]
  },
  {
   "cell_type": "code",
   "execution_count": 5,
   "metadata": {},
   "outputs": [
    {
     "name": "stdout",
     "output_type": "stream",
     "text": [
      "Processed and saved: /Users/aakashsuresh/fairness/processed_data_nhanes_lab/fasting_questionnaire_processed.csv\n",
      "Processed and saved: /Users/aakashsuresh/fairness/processed_data_nhanes_lab/fasting_glucose_processed.csv\n",
      "Processed and saved: /Users/aakashsuresh/fairness/processed_data_nhanes_lab/glycohemoglobin_processed.csv\n",
      "UnicodeDecodeError while processing /Users/aakashsuresh/fairness/nhanes_2017_2020_raw_data/P_INS.XPT: 'utf-8' codec can't decode byte 0xb5 in position 9: invalid start byte\n",
      "Processed and saved: /Users/aakashsuresh/fairness/processed_data_nhanes_lab/biochemistry_profile_processed.csv\n",
      "Processed and saved: /Users/aakashsuresh/fairness/processed_data_nhanes_lab/iron_status_processed.csv\n",
      "Processed and saved: /Users/aakashsuresh/fairness/processed_data_nhanes_lab/c_reactive_protein_processed.csv\n",
      "Processed and saved: /Users/aakashsuresh/fairness/processed_data_nhanes_lab/cotinine_processed.csv\n"
     ]
    }
   ],
   "source": [
    "for label, file_name in files_to_process.items():\n",
    "    file_path = os.path.join(raw_data_dir, file_name)\n",
    "    \n",
    "    if os.path.exists(file_path):\n",
    "        try:\n",
    "            # Read the XPT file\n",
    "            df, meta = pyreadstat.read_xport(file_path)\n",
    "\n",
    "            # Drop missing values and handle NaNs\n",
    "            df = df.dropna(axis=0, how='any')  # Drop rows with NaN values\n",
    "            df.columns = df.columns.str.strip().str.lower()  # Clean column names\n",
    "            \n",
    "            # Save as CSV in the processed_data_new folder\n",
    "            output_file = os.path.join(output_dir, f\"{label}_processed.csv\")\n",
    "            df.to_csv(output_file, index=False)\n",
    "            print(f\"Processed and saved: {output_file}\")\n",
    "        \n",
    "        except UnicodeDecodeError as e:\n",
    "            print(f\"UnicodeDecodeError while processing {file_path}: {e}\")\n",
    "        except Exception as e:\n",
    "            print(f\"Error while processing {file_path}: {e}\")\n",
    "    else:\n",
    "        print(f\"File not found: {file_path}\")"
   ]
  }
 ],
 "metadata": {
  "kernelspec": {
   "display_name": "3.10.12",
   "language": "python",
   "name": "python3"
  },
  "language_info": {
   "codemirror_mode": {
    "name": "ipython",
    "version": 3
   },
   "file_extension": ".py",
   "mimetype": "text/x-python",
   "name": "python",
   "nbconvert_exporter": "python",
   "pygments_lexer": "ipython3",
   "version": "3.10.12"
  }
 },
 "nbformat": 4,
 "nbformat_minor": 2
}
