{
 "cells": [
  {
   "cell_type": "code",
   "execution_count": 2,
   "metadata": {},
   "outputs": [
    {
     "name": "stdout",
     "output_type": "stream",
     "text": [
      "Data merged successfully. Shape: (0, 77)\n"
     ]
    }
   ],
   "source": [
    "import os\n",
    "import pandas as pd\n",
    "\n",
    "# Define file paths\n",
    "data_dir = \"/Users/aakashsuresh/fairness/processed_data_nhanes_lab/\"\n",
    "files_to_load = [\n",
    "    \"fasting_questionnaire_processed.csv\",\n",
    "    \"fasting_glucose_processed.csv\",\n",
    "    \"glycohemoglobin_processed.csv\",\n",
    "    \"biochemistry_profile_processed.csv\",\n",
    "    \"iron_status_processed.csv\",\n",
    "    \"c_reactive_protein_processed.csv\",\n",
    "    \"cotinine_processed.csv\",\n",
    "]\n",
    "\n",
    "# Load dataframes into a dictionary\n",
    "dataframes = {}\n",
    "for file in files_to_load:\n",
    "    file_path = os.path.join(data_dir, file)\n",
    "    df_name = file.replace(\"_processed.csv\", \"\")\n",
    "    dataframes[df_name] = pd.read_csv(file_path)\n",
    "\n",
    "# Merge datasets on SEQN (NHANES unique identifier)\n",
    "merged_df = dataframes[\"fasting_questionnaire\"]\n",
    "for name, df in dataframes.items():\n",
    "    if name != \"fasting_questionnaire\":\n",
    "        merged_df = pd.merge(merged_df, df, on=\"seqn\", how=\"inner\")\n",
    "\n",
    "# Standardize column names to lowercase\n",
    "df.columns = df.columns.str.strip().str.lower()\n",
    "\n",
    "print(\"Data merged successfully. Shape:\", merged_df.shape)\n"
   ]
  },
  {
   "cell_type": "code",
   "execution_count": 3,
   "metadata": {},
   "outputs": [],
   "source": [
    "# Remove fasting_questionnaire temporarily because it has no unique counts \n",
    "del dataframes[\"fasting_questionnaire\"]"
   ]
  },
  {
   "cell_type": "code",
   "execution_count": 4,
   "metadata": {},
   "outputs": [
    {
     "name": "stdout",
     "output_type": "stream",
     "text": [
      "Data merged successfully. Shape: (4526, 59)\n",
      "Data cleaned and scaled.\n"
     ]
    }
   ],
   "source": [
    "import pandas as pd\n",
    "from sklearn.preprocessing import StandardScaler\n",
    "\n",
    "# Merge remaining datasets on 'seqn' (ignoring fasting_questionnaire)\n",
    "merged_df = None\n",
    "\n",
    "# Iterate and merge all datasets\n",
    "for name, df in dataframes.items():\n",
    "    if merged_df is None:\n",
    "        merged_df = df  # Initialize with the first dataset\n",
    "    else:\n",
    "        merged_df = pd.merge(merged_df, df, on=\"seqn\", how=\"inner\")\n",
    "\n",
    "print(f\"Data merged successfully. Shape: {merged_df.shape}\")\n",
    "\n",
    "# Drop rows with missing values after merge\n",
    "merged_df = merged_df.dropna()\n",
    "\n",
    "# Standardize numeric columns\n",
    "scaler = StandardScaler()\n",
    "numeric_cols = merged_df.select_dtypes(include=[\"float64\", \"int64\"]).columns\n",
    "merged_df[numeric_cols] = scaler.fit_transform(merged_df[numeric_cols])\n",
    "\n",
    "print(\"Data cleaned and scaled.\")"
   ]
  },
  {
   "cell_type": "code",
   "execution_count": 5,
   "metadata": {},
   "outputs": [
    {
     "name": "stdout",
     "output_type": "stream",
     "text": [
      "Columns in merged_df:\n",
      "['seqn', 'wtsafprp', 'lbxglu', 'lbdglusi', 'lbxgh', 'lbxsatsi', 'lbdsatlc', 'lbxsal', 'lbdsalsi', 'lbxsapsi', 'lbxsassi', 'lbxsc3si', 'lbxsbu', 'lbdsbusi', 'lbxsclsi', 'lbxsck', 'lbxscr', 'lbdscrsi', 'lbxsgb', 'lbdsgbsi', 'lbxsgl', 'lbdsglsi', 'lbxsgtsi', 'lbdsgtlc', 'lbxsir', 'lbdsirsi', 'lbxsldsi', 'lbxsossi', 'lbxsph', 'lbdsphsi', 'lbxsksi', 'lbxsnasi', 'lbxstb', 'lbdstbsi', 'lbdstblc', 'lbxsca', 'lbdscasi', 'lbxsch', 'lbdschsi', 'lbxstp', 'lbdstpsi', 'lbxstr', 'lbdstrsi', 'lbxsua', 'lbdsuasi', 'lbxirn', 'lbdirnsi', 'lbxuib', 'lbduiblc', 'lbduibsi', 'lbdtib', 'lbdtibsi', 'lbdpct', 'lbxhscrp', 'lbdhrplc', 'lbxcot', 'lbdcotlc', 'lbxhcot', 'lbdhcolc']\n"
     ]
    }
   ],
   "source": [
    "# Display all column names in merged_df\n",
    "print(\"Columns in merged_df:\")\n",
    "print(merged_df.columns.tolist())"
   ]
  },
  {
   "cell_type": "code",
   "execution_count": 12,
   "metadata": {},
   "outputs": [
    {
     "name": "stdout",
     "output_type": "stream",
     "text": [
      "Columns in merged_df: Index(['seqn', 'wtsafprp', 'lbxglu', 'lbdglusi', 'lbxgh', 'lbxsatsi',\n",
      "       'lbdsatlc', 'lbxsal', 'lbdsalsi', 'lbxsapsi', 'lbxsassi', 'lbxsc3si',\n",
      "       'lbxsbu', 'lbdsbusi', 'lbxsclsi', 'lbxsck', 'lbxscr', 'lbdscrsi',\n",
      "       'lbxsgb', 'lbdsgbsi', 'lbxsgl', 'lbdsglsi', 'lbxsgtsi', 'lbdsgtlc',\n",
      "       'lbxsir', 'lbdsirsi', 'lbxsldsi', 'lbxsossi', 'lbxsph', 'lbdsphsi',\n",
      "       'lbxsksi', 'lbxsnasi', 'lbxstb', 'lbdstbsi', 'lbdstblc', 'lbxsca',\n",
      "       'lbdscasi', 'lbxsch', 'lbdschsi', 'lbxstp', 'lbdstpsi', 'lbxstr',\n",
      "       'lbdstrsi', 'lbxsua', 'lbdsuasi', 'lbxirn', 'lbdirnsi', 'lbxuib',\n",
      "       'lbduiblc', 'lbduibsi', 'lbdtib', 'lbdtibsi', 'lbdpct', 'lbxhscrp',\n",
      "       'lbdhrplc', 'lbxcot', 'lbdcotlc', 'lbxhcot', 'lbdhcolc'],\n",
      "      dtype='object')\n",
      "Columns in demo_selected: Index(['SEQN', 'age', 'gender'], dtype='object')\n"
     ]
    }
   ],
   "source": [
    "print(\"Columns in merged_df:\", merged_df.columns)\n",
    "print(\"Columns in demo_selected:\", demo_selected.columns)"
   ]
  },
  {
   "cell_type": "code",
   "execution_count": 15,
   "metadata": {},
   "outputs": [
    {
     "name": "stdout",
     "output_type": "stream",
     "text": [
      "Index(['seqn', 'age', 'gender'], dtype='object')\n",
      "       seqn  wtsafprp    lbxglu  lbdglusi     lbxgh  lbxsatsi  lbdsatlc  \\\n",
      "0 -1.766579 -0.442652 -0.395739 -0.397905 -0.445597 -0.679824       0.0   \n",
      "1 -1.765016 -0.578612 -0.229418 -0.228153 -0.173587 -0.679824       0.0   \n",
      "2 -1.764346 -0.604835  1.184315  1.184782 -0.082917 -0.121378       0.0   \n",
      "3 -1.763676 -0.374949 -0.534341 -0.532708 -0.445597 -0.527521       0.0   \n",
      "4 -1.762559  0.299318 -0.451180 -0.452825 -0.264257 -0.222914       0.0   \n",
      "\n",
      "     lbxsal  lbdsalsi  lbxsapsi  ...  lbxhscrp  lbdhrplc    lbxcot  lbdcotlc  \\\n",
      "0  0.754519  0.754519  1.679067  ... -0.498703  7.601264 -0.413056 -0.705116   \n",
      "1 -0.685539 -0.685539 -0.004073  ...  3.228526 -0.131557  2.609282 -0.705116   \n",
      "2 -0.109516 -0.109516 -0.785531  ... -0.304318 -0.131557 -0.413048 -0.705116   \n",
      "3  0.754519  0.754519  1.298357  ... -0.192123 -0.131557 -0.413116  1.418207   \n",
      "4  0.754519  0.754519 -0.284596  ... -0.107324 -0.131557 -0.412777 -0.705116   \n",
      "\n",
      "    lbxhcot  lbdhcolc  age_x  gender_x  age_y  gender_y  \n",
      "0 -0.347556  0.949989    NaN       NaN    NaN       NaN  \n",
      "1  0.834789 -1.052643    NaN       NaN    NaN       NaN  \n",
      "2 -0.347358 -1.052643    NaN       NaN    NaN       NaN  \n",
      "3 -0.347556  0.949989    NaN       NaN    NaN       NaN  \n",
      "4 -0.347376 -1.052643    NaN       NaN    NaN       NaN  \n",
      "\n",
      "[5 rows x 63 columns]\n"
     ]
    }
   ],
   "source": [
    "print(demo_selected.columns)\n",
    "print(merged_df.head())"
   ]
  },
  {
   "cell_type": "code",
   "execution_count": 34,
   "metadata": {},
   "outputs": [
    {
     "ename": "KeyError",
     "evalue": "\"['RIDAGEYR', 'RIAGENDR'] not in index\"",
     "output_type": "error",
     "traceback": [
      "\u001b[0;31m---------------------------------------------------------------------------\u001b[0m",
      "\u001b[0;31mKeyError\u001b[0m                                  Traceback (most recent call last)",
      "Cell \u001b[0;32mIn[34], line 23\u001b[0m\n\u001b[1;32m     20\u001b[0m selected_features \u001b[38;5;241m=\u001b[39m [\u001b[38;5;124m\"\u001b[39m\u001b[38;5;124mRIDAGEYR\u001b[39m\u001b[38;5;124m\"\u001b[39m, \u001b[38;5;124m\"\u001b[39m\u001b[38;5;124mRIAGENDR\u001b[39m\u001b[38;5;124m\"\u001b[39m, \u001b[38;5;124m\"\u001b[39m\u001b[38;5;124mlbxglu\u001b[39m\u001b[38;5;124m\"\u001b[39m, \u001b[38;5;124m\"\u001b[39m\u001b[38;5;124mlbxgh\u001b[39m\u001b[38;5;124m\"\u001b[39m]  \u001b[38;5;66;03m# Cholesterol & Triglycerides\u001b[39;00m\n\u001b[1;32m     22\u001b[0m \u001b[38;5;66;03m# Ensure only selected features are used\u001b[39;00m\n\u001b[0;32m---> 23\u001b[0m X \u001b[38;5;241m=\u001b[39m \u001b[43mmerged_df\u001b[49m\u001b[43m[\u001b[49m\u001b[43mselected_features\u001b[49m\u001b[43m]\u001b[49m\n\u001b[1;32m     24\u001b[0m y \u001b[38;5;241m=\u001b[39m merged_df[[\u001b[38;5;124m\"\u001b[39m\u001b[38;5;124mlbxglu\u001b[39m\u001b[38;5;124m\"\u001b[39m, \u001b[38;5;124m\"\u001b[39m\u001b[38;5;124mlbxgh\u001b[39m\u001b[38;5;124m\"\u001b[39m]]  \u001b[38;5;66;03m# Multi-output target\u001b[39;00m\n\u001b[1;32m     26\u001b[0m \u001b[38;5;66;03m# Drop rows with missing values\u001b[39;00m\n",
      "File \u001b[0;32m~/.pyenv/versions/3.10.12/lib/python3.10/site-packages/pandas/core/frame.py:4108\u001b[0m, in \u001b[0;36mDataFrame.__getitem__\u001b[0;34m(self, key)\u001b[0m\n\u001b[1;32m   4106\u001b[0m     \u001b[38;5;28;01mif\u001b[39;00m is_iterator(key):\n\u001b[1;32m   4107\u001b[0m         key \u001b[38;5;241m=\u001b[39m \u001b[38;5;28mlist\u001b[39m(key)\n\u001b[0;32m-> 4108\u001b[0m     indexer \u001b[38;5;241m=\u001b[39m \u001b[38;5;28;43mself\u001b[39;49m\u001b[38;5;241;43m.\u001b[39;49m\u001b[43mcolumns\u001b[49m\u001b[38;5;241;43m.\u001b[39;49m\u001b[43m_get_indexer_strict\u001b[49m\u001b[43m(\u001b[49m\u001b[43mkey\u001b[49m\u001b[43m,\u001b[49m\u001b[43m \u001b[49m\u001b[38;5;124;43m\"\u001b[39;49m\u001b[38;5;124;43mcolumns\u001b[39;49m\u001b[38;5;124;43m\"\u001b[39;49m\u001b[43m)\u001b[49m[\u001b[38;5;241m1\u001b[39m]\n\u001b[1;32m   4110\u001b[0m \u001b[38;5;66;03m# take() does not accept boolean indexers\u001b[39;00m\n\u001b[1;32m   4111\u001b[0m \u001b[38;5;28;01mif\u001b[39;00m \u001b[38;5;28mgetattr\u001b[39m(indexer, \u001b[38;5;124m\"\u001b[39m\u001b[38;5;124mdtype\u001b[39m\u001b[38;5;124m\"\u001b[39m, \u001b[38;5;28;01mNone\u001b[39;00m) \u001b[38;5;241m==\u001b[39m \u001b[38;5;28mbool\u001b[39m:\n",
      "File \u001b[0;32m~/.pyenv/versions/3.10.12/lib/python3.10/site-packages/pandas/core/indexes/base.py:6200\u001b[0m, in \u001b[0;36mIndex._get_indexer_strict\u001b[0;34m(self, key, axis_name)\u001b[0m\n\u001b[1;32m   6197\u001b[0m \u001b[38;5;28;01melse\u001b[39;00m:\n\u001b[1;32m   6198\u001b[0m     keyarr, indexer, new_indexer \u001b[38;5;241m=\u001b[39m \u001b[38;5;28mself\u001b[39m\u001b[38;5;241m.\u001b[39m_reindex_non_unique(keyarr)\n\u001b[0;32m-> 6200\u001b[0m \u001b[38;5;28;43mself\u001b[39;49m\u001b[38;5;241;43m.\u001b[39;49m\u001b[43m_raise_if_missing\u001b[49m\u001b[43m(\u001b[49m\u001b[43mkeyarr\u001b[49m\u001b[43m,\u001b[49m\u001b[43m \u001b[49m\u001b[43mindexer\u001b[49m\u001b[43m,\u001b[49m\u001b[43m \u001b[49m\u001b[43maxis_name\u001b[49m\u001b[43m)\u001b[49m\n\u001b[1;32m   6202\u001b[0m keyarr \u001b[38;5;241m=\u001b[39m \u001b[38;5;28mself\u001b[39m\u001b[38;5;241m.\u001b[39mtake(indexer)\n\u001b[1;32m   6203\u001b[0m \u001b[38;5;28;01mif\u001b[39;00m \u001b[38;5;28misinstance\u001b[39m(key, Index):\n\u001b[1;32m   6204\u001b[0m     \u001b[38;5;66;03m# GH 42790 - Preserve name from an Index\u001b[39;00m\n",
      "File \u001b[0;32m~/.pyenv/versions/3.10.12/lib/python3.10/site-packages/pandas/core/indexes/base.py:6252\u001b[0m, in \u001b[0;36mIndex._raise_if_missing\u001b[0;34m(self, key, indexer, axis_name)\u001b[0m\n\u001b[1;32m   6249\u001b[0m     \u001b[38;5;28;01mraise\u001b[39;00m \u001b[38;5;167;01mKeyError\u001b[39;00m(\u001b[38;5;124mf\u001b[39m\u001b[38;5;124m\"\u001b[39m\u001b[38;5;124mNone of [\u001b[39m\u001b[38;5;132;01m{\u001b[39;00mkey\u001b[38;5;132;01m}\u001b[39;00m\u001b[38;5;124m] are in the [\u001b[39m\u001b[38;5;132;01m{\u001b[39;00maxis_name\u001b[38;5;132;01m}\u001b[39;00m\u001b[38;5;124m]\u001b[39m\u001b[38;5;124m\"\u001b[39m)\n\u001b[1;32m   6251\u001b[0m not_found \u001b[38;5;241m=\u001b[39m \u001b[38;5;28mlist\u001b[39m(ensure_index(key)[missing_mask\u001b[38;5;241m.\u001b[39mnonzero()[\u001b[38;5;241m0\u001b[39m]]\u001b[38;5;241m.\u001b[39munique())\n\u001b[0;32m-> 6252\u001b[0m \u001b[38;5;28;01mraise\u001b[39;00m \u001b[38;5;167;01mKeyError\u001b[39;00m(\u001b[38;5;124mf\u001b[39m\u001b[38;5;124m\"\u001b[39m\u001b[38;5;132;01m{\u001b[39;00mnot_found\u001b[38;5;132;01m}\u001b[39;00m\u001b[38;5;124m not in index\u001b[39m\u001b[38;5;124m\"\u001b[39m)\n",
      "\u001b[0;31mKeyError\u001b[0m: \"['RIDAGEYR', 'RIAGENDR'] not in index\""
     ]
    }
   ],
   "source": [
    "from sklearn.model_selection import train_test_split\n",
    "from sklearn.ensemble import RandomForestRegressor\n",
    "from sklearn.multioutput import MultiOutputRegressor\n",
    "from sklearn.metrics import mean_squared_error\n",
    "\n",
    "# Load demographic data\n",
    "demo_df = pd.read_sas(\"P_DEMO.xpt\", format=\"xport\")\n",
    "\n",
    "# Select relevant demographic features that exist\n",
    "demo_selected = demo_df[[\"SEQN\", \"RIDAGEYR\", \"RIAGENDR\"]]\n",
    "\n",
    "# Convert column names to lowercase\n",
    "merged_df.columns = merged_df.columns.str.lower()\n",
    "demo_selected.columns = demo_selected.columns.str.lower()\n",
    "\n",
    "# Merge again\n",
    "merged_df = merged_df.merge(demo_selected, on=\"seqn\", how=\"left\")\n",
    "\n",
    "# Select final features\n",
    "selected_features = [\"RIDAGEYR\", \"RIAGENDR\", \"lbxglu\", \"lbxgh\"]  # Cholesterol & Triglycerides\n",
    "\n",
    "# Ensure only selected features are used\n",
    "X = merged_df[selected_features]\n",
    "y = merged_df[[\"lbxglu\", \"lbxgh\"]]  # Multi-output target\n",
    "\n",
    "# Drop rows with missing values\n",
    "X = X.dropna()\n",
    "y = y.loc[X.index]  # Align target with feature rows\n",
    "\n",
    "# Split data\n",
    "X_train, X_test, y_train, y_test = train_test_split(X, y, test_size=0.2, random_state=42)\n",
    "\n",
    "# Train model\n",
    "base_model = RandomForestRegressor(n_estimators=100, random_state=42)\n",
    "model = MultiOutputRegressor(base_model)\n",
    "model.fit(X_train, y_train)\n",
    "\n",
    "# Predict on test data\n",
    "y_pred = model.predict(X_test)\n",
    "\n",
    "# Calculate mean squared error\n",
    "glu_mse = mean_squared_error(y_test[\"lbxglu\"], y_pred[:, 0])\n",
    "gh_mse = mean_squared_error(y_test[\"lbxgh\"], y_pred[:, 1])\n",
    "\n",
    "print(f\"Fasting Glucose (lbxglu) MSE: {glu_mse:.4f}\")\n",
    "print(f\"Glycohemoglobin (lbxgh) MSE: {gh_mse:.4f}\")"
   ]
  },
  {
   "cell_type": "code",
   "execution_count": 36,
   "metadata": {},
   "outputs": [
    {
     "name": "stdout",
     "output_type": "stream",
     "text": [
      "merged_df columns before merge: Index(['seqn', 'wtsafprp', 'lbxglu', 'lbdglusi', 'lbxgh', 'lbxsatsi',\n",
      "       'lbdsatlc', 'lbxsal', 'lbdsalsi', 'lbxsapsi', 'lbxsassi', 'lbxsc3si',\n",
      "       'lbxsbu', 'lbdsbusi', 'lbxsclsi', 'lbxsck', 'lbxscr', 'lbdscrsi',\n",
      "       'lbxsgb', 'lbdsgbsi', 'lbxsgl', 'lbdsglsi', 'lbxsgtsi', 'lbdsgtlc',\n",
      "       'lbxsir', 'lbdsirsi', 'lbxsldsi', 'lbxsossi', 'lbxsph', 'lbdsphsi',\n",
      "       'lbxsksi', 'lbxsnasi', 'lbxstb', 'lbdstbsi', 'lbdstblc', 'lbxsca',\n",
      "       'lbdscasi', 'lbxsch', 'lbdschsi', 'lbxstp', 'lbdstpsi', 'lbxstr',\n",
      "       'lbdstrsi', 'lbxsua', 'lbdsuasi', 'lbxirn', 'lbdirnsi', 'lbxuib',\n",
      "       'lbduiblc', 'lbduibsi', 'lbdtib', 'lbdtibsi', 'lbdpct', 'lbxhscrp',\n",
      "       'lbdhrplc', 'lbxcot', 'lbdcotlc', 'lbxhcot', 'lbdhcolc', 'age_x',\n",
      "       'gender_x', 'riagendr_x', 'ridageyr_x', 'age_y', 'gender_y',\n",
      "       'ridageyr_y', 'riagendr_y', 'ridageyr', 'riagendr'],\n",
      "      dtype='object')\n",
      "demo_selected columns before merge: Index(['seqn', 'ridageyr', 'riagendr'], dtype='object')\n",
      "merged_df columns after merge: Index(['seqn', 'wtsafprp', 'lbxglu', 'lbdglusi', 'lbxgh', 'lbxsatsi',\n",
      "       'lbdsatlc', 'lbxsal', 'lbdsalsi', 'lbxsapsi', 'lbxsassi', 'lbxsc3si',\n",
      "       'lbxsbu', 'lbdsbusi', 'lbxsclsi', 'lbxsck', 'lbxscr', 'lbdscrsi',\n",
      "       'lbxsgb', 'lbdsgbsi', 'lbxsgl', 'lbdsglsi', 'lbxsgtsi', 'lbdsgtlc',\n",
      "       'lbxsir', 'lbdsirsi', 'lbxsldsi', 'lbxsossi', 'lbxsph', 'lbdsphsi',\n",
      "       'lbxsksi', 'lbxsnasi', 'lbxstb', 'lbdstbsi', 'lbdstblc', 'lbxsca',\n",
      "       'lbdscasi', 'lbxsch', 'lbdschsi', 'lbxstp', 'lbdstpsi', 'lbxstr',\n",
      "       'lbdstrsi', 'lbxsua', 'lbdsuasi', 'lbxirn', 'lbdirnsi', 'lbxuib',\n",
      "       'lbduiblc', 'lbduibsi', 'lbdtib', 'lbdtibsi', 'lbdpct', 'lbxhscrp',\n",
      "       'lbdhrplc', 'lbxcot', 'lbdcotlc', 'lbxhcot', 'lbdhcolc', 'age_x',\n",
      "       'gender_x', 'riagendr_x', 'ridageyr_x', 'age_y', 'gender_y',\n",
      "       'ridageyr_y', 'riagendr_y', 'ridageyr_orig', 'riagendr_orig',\n",
      "       'ridageyr_demo', 'riagendr_demo'],\n",
      "      dtype='object')\n"
     ]
    },
    {
     "ename": "KeyError",
     "evalue": "\"['ridageyr', 'riagendr'] not in index\"",
     "output_type": "error",
     "traceback": [
      "\u001b[0;31m---------------------------------------------------------------------------\u001b[0m",
      "\u001b[0;31mKeyError\u001b[0m                                  Traceback (most recent call last)",
      "Cell \u001b[0;32mIn[36], line 25\u001b[0m\n\u001b[1;32m     22\u001b[0m selected_features \u001b[38;5;241m=\u001b[39m [\u001b[38;5;124m\"\u001b[39m\u001b[38;5;124mridageyr\u001b[39m\u001b[38;5;124m\"\u001b[39m, \u001b[38;5;124m\"\u001b[39m\u001b[38;5;124mriagendr\u001b[39m\u001b[38;5;124m\"\u001b[39m, \u001b[38;5;124m\"\u001b[39m\u001b[38;5;124mlbxglu\u001b[39m\u001b[38;5;124m\"\u001b[39m, \u001b[38;5;124m\"\u001b[39m\u001b[38;5;124mlbxgh\u001b[39m\u001b[38;5;124m\"\u001b[39m]  \u001b[38;5;66;03m# Cholesterol & Triglycerides\u001b[39;00m\n\u001b[1;32m     24\u001b[0m \u001b[38;5;66;03m# Ensure only selected features are used\u001b[39;00m\n\u001b[0;32m---> 25\u001b[0m X \u001b[38;5;241m=\u001b[39m \u001b[43mmerged_df\u001b[49m\u001b[43m[\u001b[49m\u001b[43mselected_features\u001b[49m\u001b[43m]\u001b[49m\n\u001b[1;32m     26\u001b[0m y \u001b[38;5;241m=\u001b[39m merged_df[[\u001b[38;5;124m\"\u001b[39m\u001b[38;5;124mlbxglu\u001b[39m\u001b[38;5;124m\"\u001b[39m, \u001b[38;5;124m\"\u001b[39m\u001b[38;5;124mlbxgh\u001b[39m\u001b[38;5;124m\"\u001b[39m]]  \u001b[38;5;66;03m# Multi-output target\u001b[39;00m\n\u001b[1;32m     28\u001b[0m \u001b[38;5;66;03m# Drop rows with missing values\u001b[39;00m\n",
      "File \u001b[0;32m~/.pyenv/versions/3.10.12/lib/python3.10/site-packages/pandas/core/frame.py:4108\u001b[0m, in \u001b[0;36mDataFrame.__getitem__\u001b[0;34m(self, key)\u001b[0m\n\u001b[1;32m   4106\u001b[0m     \u001b[38;5;28;01mif\u001b[39;00m is_iterator(key):\n\u001b[1;32m   4107\u001b[0m         key \u001b[38;5;241m=\u001b[39m \u001b[38;5;28mlist\u001b[39m(key)\n\u001b[0;32m-> 4108\u001b[0m     indexer \u001b[38;5;241m=\u001b[39m \u001b[38;5;28;43mself\u001b[39;49m\u001b[38;5;241;43m.\u001b[39;49m\u001b[43mcolumns\u001b[49m\u001b[38;5;241;43m.\u001b[39;49m\u001b[43m_get_indexer_strict\u001b[49m\u001b[43m(\u001b[49m\u001b[43mkey\u001b[49m\u001b[43m,\u001b[49m\u001b[43m \u001b[49m\u001b[38;5;124;43m\"\u001b[39;49m\u001b[38;5;124;43mcolumns\u001b[39;49m\u001b[38;5;124;43m\"\u001b[39;49m\u001b[43m)\u001b[49m[\u001b[38;5;241m1\u001b[39m]\n\u001b[1;32m   4110\u001b[0m \u001b[38;5;66;03m# take() does not accept boolean indexers\u001b[39;00m\n\u001b[1;32m   4111\u001b[0m \u001b[38;5;28;01mif\u001b[39;00m \u001b[38;5;28mgetattr\u001b[39m(indexer, \u001b[38;5;124m\"\u001b[39m\u001b[38;5;124mdtype\u001b[39m\u001b[38;5;124m\"\u001b[39m, \u001b[38;5;28;01mNone\u001b[39;00m) \u001b[38;5;241m==\u001b[39m \u001b[38;5;28mbool\u001b[39m:\n",
      "File \u001b[0;32m~/.pyenv/versions/3.10.12/lib/python3.10/site-packages/pandas/core/indexes/base.py:6200\u001b[0m, in \u001b[0;36mIndex._get_indexer_strict\u001b[0;34m(self, key, axis_name)\u001b[0m\n\u001b[1;32m   6197\u001b[0m \u001b[38;5;28;01melse\u001b[39;00m:\n\u001b[1;32m   6198\u001b[0m     keyarr, indexer, new_indexer \u001b[38;5;241m=\u001b[39m \u001b[38;5;28mself\u001b[39m\u001b[38;5;241m.\u001b[39m_reindex_non_unique(keyarr)\n\u001b[0;32m-> 6200\u001b[0m \u001b[38;5;28;43mself\u001b[39;49m\u001b[38;5;241;43m.\u001b[39;49m\u001b[43m_raise_if_missing\u001b[49m\u001b[43m(\u001b[49m\u001b[43mkeyarr\u001b[49m\u001b[43m,\u001b[49m\u001b[43m \u001b[49m\u001b[43mindexer\u001b[49m\u001b[43m,\u001b[49m\u001b[43m \u001b[49m\u001b[43maxis_name\u001b[49m\u001b[43m)\u001b[49m\n\u001b[1;32m   6202\u001b[0m keyarr \u001b[38;5;241m=\u001b[39m \u001b[38;5;28mself\u001b[39m\u001b[38;5;241m.\u001b[39mtake(indexer)\n\u001b[1;32m   6203\u001b[0m \u001b[38;5;28;01mif\u001b[39;00m \u001b[38;5;28misinstance\u001b[39m(key, Index):\n\u001b[1;32m   6204\u001b[0m     \u001b[38;5;66;03m# GH 42790 - Preserve name from an Index\u001b[39;00m\n",
      "File \u001b[0;32m~/.pyenv/versions/3.10.12/lib/python3.10/site-packages/pandas/core/indexes/base.py:6252\u001b[0m, in \u001b[0;36mIndex._raise_if_missing\u001b[0;34m(self, key, indexer, axis_name)\u001b[0m\n\u001b[1;32m   6249\u001b[0m     \u001b[38;5;28;01mraise\u001b[39;00m \u001b[38;5;167;01mKeyError\u001b[39;00m(\u001b[38;5;124mf\u001b[39m\u001b[38;5;124m\"\u001b[39m\u001b[38;5;124mNone of [\u001b[39m\u001b[38;5;132;01m{\u001b[39;00mkey\u001b[38;5;132;01m}\u001b[39;00m\u001b[38;5;124m] are in the [\u001b[39m\u001b[38;5;132;01m{\u001b[39;00maxis_name\u001b[38;5;132;01m}\u001b[39;00m\u001b[38;5;124m]\u001b[39m\u001b[38;5;124m\"\u001b[39m)\n\u001b[1;32m   6251\u001b[0m not_found \u001b[38;5;241m=\u001b[39m \u001b[38;5;28mlist\u001b[39m(ensure_index(key)[missing_mask\u001b[38;5;241m.\u001b[39mnonzero()[\u001b[38;5;241m0\u001b[39m]]\u001b[38;5;241m.\u001b[39munique())\n\u001b[0;32m-> 6252\u001b[0m \u001b[38;5;28;01mraise\u001b[39;00m \u001b[38;5;167;01mKeyError\u001b[39;00m(\u001b[38;5;124mf\u001b[39m\u001b[38;5;124m\"\u001b[39m\u001b[38;5;132;01m{\u001b[39;00mnot_found\u001b[38;5;132;01m}\u001b[39;00m\u001b[38;5;124m not in index\u001b[39m\u001b[38;5;124m\"\u001b[39m)\n",
      "\u001b[0;31mKeyError\u001b[0m: \"['ridageyr', 'riagendr'] not in index\""
     ]
    }
   ],
   "source": [
    "# Load demographic data\n",
    "demo_df = pd.read_sas(\"P_DEMO.xpt\", format=\"xport\")\n",
    "\n",
    "# Select relevant demographic features that exist\n",
    "demo_selected = demo_df[[\"SEQN\", \"RIDAGEYR\", \"RIAGENDR\"]]\n",
    "\n",
    "# Convert column names to lowercase for both merged_df and demo_selected\n",
    "merged_df.columns = merged_df.columns.str.lower()\n",
    "demo_selected.columns = demo_selected.columns.str.lower()\n",
    "\n",
    "# Check columns of merged_df before merging\n",
    "print(f\"merged_df columns before merge: {merged_df.columns}\")\n",
    "print(f\"demo_selected columns before merge: {demo_selected.columns}\")\n",
    "\n",
    "# Merge again with custom suffixes to avoid conflicts\n",
    "merged_df = merged_df.merge(demo_selected, on=\"seqn\", how=\"left\", suffixes=('_orig', '_demo'))\n",
    "\n",
    "# Check columns of merged_df after merge\n",
    "print(f\"merged_df columns after merge: {merged_df.columns}\")\n",
    "\n",
    "# Select final features\n",
    "selected_features = [\"ridageyr\", \"riagendr\", \"lbxglu\", \"lbxgh\"]  # Cholesterol & Triglycerides\n",
    "\n",
    "# Ensure only selected features are used\n",
    "X = merged_df[selected_features]\n",
    "y = merged_df[[\"lbxglu\", \"lbxgh\"]]  # Multi-output target\n",
    "\n",
    "# Drop rows with missing values\n",
    "X = X.dropna()\n",
    "y = y.loc[X.index]  # Align target with feature rows\n",
    "\n",
    "# Split data\n",
    "X_train, X_test, y_train, y_test = train_test_split(X, y, test_size=0.2, random_state=42)\n",
    "\n",
    "# Train model\n",
    "base_model = RandomForestRegressor(n_estimators=100, random_state=42)\n",
    "model = MultiOutputRegressor(base_model)\n",
    "model.fit(X_train, y_train)\n",
    "\n",
    "# Predict on test data\n",
    "y_pred = model.predict(X_test)\n",
    "\n",
    "# Calculate mean squared error\n",
    "glu_mse = mean_squared_error(y_test[\"lbxglu\"], y_pred[:, 0])\n",
    "gh_mse = mean_squared_error(y_test[\"lbxgh\"], y_pred[:, 1])\n",
    "\n",
    "print(f\"Fasting Glucose (lbxglu) MSE: {glu_mse:.4f}\")\n",
    "print(f\"Glycohemoglobin (lbxgh) MSE: {gh_mse:.4f}\")"
   ]
  },
  {
   "cell_type": "code",
   "execution_count": 37,
   "metadata": {},
   "outputs": [
    {
     "name": "stdout",
     "output_type": "stream",
     "text": [
      "merged_df columns after merge: Index(['seqn', 'wtsafprp', 'lbxglu', 'lbdglusi', 'lbxgh', 'lbxsatsi',\n",
      "       'lbdsatlc', 'lbxsal', 'lbdsalsi', 'lbxsapsi', 'lbxsassi', 'lbxsc3si',\n",
      "       'lbxsbu', 'lbdsbusi', 'lbxsclsi', 'lbxsck', 'lbxscr', 'lbdscrsi',\n",
      "       'lbxsgb', 'lbdsgbsi', 'lbxsgl', 'lbdsglsi', 'lbxsgtsi', 'lbdsgtlc',\n",
      "       'lbxsir', 'lbdsirsi', 'lbxsldsi', 'lbxsossi', 'lbxsph', 'lbdsphsi',\n",
      "       'lbxsksi', 'lbxsnasi', 'lbxstb', 'lbdstbsi', 'lbdstblc', 'lbxsca',\n",
      "       'lbdscasi', 'lbxsch', 'lbdschsi', 'lbxstp', 'lbdstpsi', 'lbxstr',\n",
      "       'lbdstrsi', 'lbxsua', 'lbdsuasi', 'lbxirn', 'lbdirnsi', 'lbxuib',\n",
      "       'lbduiblc', 'lbduibsi', 'lbdtib', 'lbdtibsi', 'lbdpct', 'lbxhscrp',\n",
      "       'lbdhrplc', 'lbxcot', 'lbdcotlc', 'lbxhcot', 'lbdhcolc', 'age_x',\n",
      "       'gender_x', 'riagendr_x', 'ridageyr_x', 'age_y', 'gender_y',\n",
      "       'ridageyr_y', 'riagendr_y', 'ridageyr_orig', 'riagendr_orig',\n",
      "       'ridageyr_demo', 'riagendr_demo'],\n",
      "      dtype='object')\n",
      "X shape: (0, 4), y shape: (4526, 2)\n"
     ]
    }
   ],
   "source": [
    "# After merging, check the columns to ensure correct names\n",
    "print(f\"merged_df columns after merge: {merged_df.columns}\")\n",
    "\n",
    "# Then, try selecting the columns again using the exact column names\n",
    "selected_features = [\"ridageyr_demo\", \"riagendr_demo\", \"lbxglu\", \"lbxgh\"]  # Adjusted column names based on suffixes\n",
    "\n",
    "# Ensure only selected features are used\n",
    "X = merged_df[selected_features]\n",
    "y = merged_df[[\"lbxglu\", \"lbxgh\"]]  # Multi-output target\n",
    "\n",
    "# Drop rows with missing values\n",
    "X = X.dropna()\n",
    "y = y.dropna()\n",
    "\n",
    "# Check the shapes\n",
    "print(f\"X shape: {X.shape}, y shape: {y.shape}\")\n"
   ]
  },
  {
   "cell_type": "code",
   "execution_count": 39,
   "metadata": {},
   "outputs": [
    {
     "name": "stdout",
     "output_type": "stream",
     "text": [
      "Missing values in selected features:\n",
      "ridageyr_demo    4526\n",
      "riagendr_demo    4526\n",
      "lbxglu              0\n",
      "lbxgh               0\n",
      "dtype: int64\n"
     ]
    }
   ],
   "source": [
    "# Check for missing values in the selected columns\n",
    "missing_values = merged_df[selected_features].isnull().sum()\n",
    "print(f\"Missing values in selected features:\\n{missing_values}\")\n"
   ]
  },
  {
   "cell_type": "code",
   "execution_count": 40,
   "metadata": {},
   "outputs": [
    {
     "name": "stdout",
     "output_type": "stream",
     "text": [
      "merged_df shape before selecting features: (4526, 71)\n"
     ]
    }
   ],
   "source": [
    "print(f\"merged_df shape before selecting features: {merged_df.shape}\")\n"
   ]
  }
 ],
 "metadata": {
  "kernelspec": {
   "display_name": "3.10.12",
   "language": "python",
   "name": "python3"
  },
  "language_info": {
   "codemirror_mode": {
    "name": "ipython",
    "version": 3
   },
   "file_extension": ".py",
   "mimetype": "text/x-python",
   "name": "python",
   "nbconvert_exporter": "python",
   "pygments_lexer": "ipython3",
   "version": "3.10.12"
  }
 },
 "nbformat": 4,
 "nbformat_minor": 2
}
