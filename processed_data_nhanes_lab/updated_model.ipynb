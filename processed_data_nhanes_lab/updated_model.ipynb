{
 "cells": [
  {
   "cell_type": "code",
   "execution_count": 1,
   "metadata": {},
   "outputs": [
    {
     "name": "stdout",
     "output_type": "stream",
     "text": [
      "Data merged successfully. Shape: (0, 77)\n"
     ]
    }
   ],
   "source": [
    "import os\n",
    "import pandas as pd\n",
    "\n",
    "# Define file paths\n",
    "data_dir = \"/Users/aakashsuresh/fairness/processed_data_nhanes_lab/\"\n",
    "files_to_load = [\n",
    "    \"fasting_questionnaire_processed.csv\",\n",
    "    \"fasting_glucose_processed.csv\",\n",
    "    \"glycohemoglobin_processed.csv\",\n",
    "    \"biochemistry_profile_processed.csv\",\n",
    "    \"iron_status_processed.csv\",\n",
    "    \"c_reactive_protein_processed.csv\",\n",
    "    \"cotinine_processed.csv\",\n",
    "]\n",
    "\n",
    "# Load dataframes into a dictionary\n",
    "dataframes = {}\n",
    "for file in files_to_load:\n",
    "    file_path = os.path.join(data_dir, file)\n",
    "    df_name = file.replace(\"_processed.csv\", \"\")\n",
    "    dataframes[df_name] = pd.read_csv(file_path)\n",
    "\n",
    "# Merge datasets on SEQN (NHANES unique identifier)\n",
    "merged_df = dataframes[\"fasting_questionnaire\"]\n",
    "for name, df in dataframes.items():\n",
    "    if name != \"fasting_questionnaire\":\n",
    "        merged_df = pd.merge(merged_df, df, on=\"seqn\", how=\"inner\")\n",
    "\n",
    "# Standardize column names to lowercase\n",
    "df.columns = df.columns.str.strip().str.lower()\n",
    "\n",
    "print(\"Data merged successfully. Shape:\", merged_df.shape)\n"
   ]
  },
  {
   "cell_type": "code",
   "execution_count": 2,
   "metadata": {},
   "outputs": [],
   "source": [
    "# Remove fasting_questionnaire temporarily because it has no unique counts \n",
    "del dataframes[\"fasting_questionnaire\"]"
   ]
  },
  {
   "cell_type": "code",
   "execution_count": 3,
   "metadata": {},
   "outputs": [
    {
     "name": "stdout",
     "output_type": "stream",
     "text": [
      "Data merged successfully. Shape: (4526, 59)\n",
      "Data cleaned and scaled.\n"
     ]
    }
   ],
   "source": [
    "import pandas as pd\n",
    "from sklearn.preprocessing import StandardScaler\n",
    "\n",
    "# Merge remaining datasets on 'seqn' (ignoring fasting_questionnaire)\n",
    "merged_df = None\n",
    "\n",
    "# Iterate and merge all datasets\n",
    "for name, df in dataframes.items():\n",
    "    if merged_df is None:\n",
    "        merged_df = df  # Initialize with the first dataset\n",
    "    else:\n",
    "        merged_df = pd.merge(merged_df, df, on=\"seqn\", how=\"inner\")\n",
    "\n",
    "print(f\"Data merged successfully. Shape: {merged_df.shape}\")\n",
    "\n",
    "# Drop rows with missing values after merge\n",
    "merged_df = merged_df.dropna()\n",
    "\n",
    "# Standardize numeric columns\n",
    "scaler = StandardScaler()\n",
    "numeric_cols = merged_df.select_dtypes(include=[\"float64\", \"int64\"]).columns\n",
    "merged_df[numeric_cols] = scaler.fit_transform(merged_df[numeric_cols])\n",
    "\n",
    "print(\"Data cleaned and scaled.\")"
   ]
  },
  {
   "cell_type": "code",
   "execution_count": 4,
   "metadata": {},
   "outputs": [
    {
     "ename": "KeyError",
     "evalue": "\"None of [Index(['age', 'gender', 'bmi', 'waist_circumference', 'blood_pressure',\\n       'cholesterol', 'triglycerides'],\\n      dtype='object')] are in the [columns]\"",
     "output_type": "error",
     "traceback": [
      "\u001b[0;31m---------------------------------------------------------------------------\u001b[0m",
      "\u001b[0;31mKeyError\u001b[0m                                  Traceback (most recent call last)",
      "Cell \u001b[0;32mIn[4], line 21\u001b[0m\n\u001b[1;32m     18\u001b[0m selected_features\u001b[38;5;241m.\u001b[39mextend(dietary_features)\n\u001b[1;32m     20\u001b[0m \u001b[38;5;66;03m# Ensure only selected features are used\u001b[39;00m\n\u001b[0;32m---> 21\u001b[0m X \u001b[38;5;241m=\u001b[39m \u001b[43mmerged_df\u001b[49m\u001b[43m[\u001b[49m\u001b[43mselected_features\u001b[49m\u001b[43m]\u001b[49m\n\u001b[1;32m     22\u001b[0m y \u001b[38;5;241m=\u001b[39m merged_df[[\u001b[38;5;124m\"\u001b[39m\u001b[38;5;124mlbxglu\u001b[39m\u001b[38;5;124m\"\u001b[39m, \u001b[38;5;124m\"\u001b[39m\u001b[38;5;124mlbxgh\u001b[39m\u001b[38;5;124m\"\u001b[39m]]  \u001b[38;5;66;03m# Multi-output target\u001b[39;00m\n\u001b[1;32m     24\u001b[0m \u001b[38;5;66;03m# Drop rows with missing values\u001b[39;00m\n",
      "File \u001b[0;32m~/.pyenv/versions/3.10.12/lib/python3.10/site-packages/pandas/core/frame.py:4108\u001b[0m, in \u001b[0;36mDataFrame.__getitem__\u001b[0;34m(self, key)\u001b[0m\n\u001b[1;32m   4106\u001b[0m     \u001b[38;5;28;01mif\u001b[39;00m is_iterator(key):\n\u001b[1;32m   4107\u001b[0m         key \u001b[38;5;241m=\u001b[39m \u001b[38;5;28mlist\u001b[39m(key)\n\u001b[0;32m-> 4108\u001b[0m     indexer \u001b[38;5;241m=\u001b[39m \u001b[38;5;28;43mself\u001b[39;49m\u001b[38;5;241;43m.\u001b[39;49m\u001b[43mcolumns\u001b[49m\u001b[38;5;241;43m.\u001b[39;49m\u001b[43m_get_indexer_strict\u001b[49m\u001b[43m(\u001b[49m\u001b[43mkey\u001b[49m\u001b[43m,\u001b[49m\u001b[43m \u001b[49m\u001b[38;5;124;43m\"\u001b[39;49m\u001b[38;5;124;43mcolumns\u001b[39;49m\u001b[38;5;124;43m\"\u001b[39;49m\u001b[43m)\u001b[49m[\u001b[38;5;241m1\u001b[39m]\n\u001b[1;32m   4110\u001b[0m \u001b[38;5;66;03m# take() does not accept boolean indexers\u001b[39;00m\n\u001b[1;32m   4111\u001b[0m \u001b[38;5;28;01mif\u001b[39;00m \u001b[38;5;28mgetattr\u001b[39m(indexer, \u001b[38;5;124m\"\u001b[39m\u001b[38;5;124mdtype\u001b[39m\u001b[38;5;124m\"\u001b[39m, \u001b[38;5;28;01mNone\u001b[39;00m) \u001b[38;5;241m==\u001b[39m \u001b[38;5;28mbool\u001b[39m:\n",
      "File \u001b[0;32m~/.pyenv/versions/3.10.12/lib/python3.10/site-packages/pandas/core/indexes/base.py:6200\u001b[0m, in \u001b[0;36mIndex._get_indexer_strict\u001b[0;34m(self, key, axis_name)\u001b[0m\n\u001b[1;32m   6197\u001b[0m \u001b[38;5;28;01melse\u001b[39;00m:\n\u001b[1;32m   6198\u001b[0m     keyarr, indexer, new_indexer \u001b[38;5;241m=\u001b[39m \u001b[38;5;28mself\u001b[39m\u001b[38;5;241m.\u001b[39m_reindex_non_unique(keyarr)\n\u001b[0;32m-> 6200\u001b[0m \u001b[38;5;28;43mself\u001b[39;49m\u001b[38;5;241;43m.\u001b[39;49m\u001b[43m_raise_if_missing\u001b[49m\u001b[43m(\u001b[49m\u001b[43mkeyarr\u001b[49m\u001b[43m,\u001b[49m\u001b[43m \u001b[49m\u001b[43mindexer\u001b[49m\u001b[43m,\u001b[49m\u001b[43m \u001b[49m\u001b[43maxis_name\u001b[49m\u001b[43m)\u001b[49m\n\u001b[1;32m   6202\u001b[0m keyarr \u001b[38;5;241m=\u001b[39m \u001b[38;5;28mself\u001b[39m\u001b[38;5;241m.\u001b[39mtake(indexer)\n\u001b[1;32m   6203\u001b[0m \u001b[38;5;28;01mif\u001b[39;00m \u001b[38;5;28misinstance\u001b[39m(key, Index):\n\u001b[1;32m   6204\u001b[0m     \u001b[38;5;66;03m# GH 42790 - Preserve name from an Index\u001b[39;00m\n",
      "File \u001b[0;32m~/.pyenv/versions/3.10.12/lib/python3.10/site-packages/pandas/core/indexes/base.py:6249\u001b[0m, in \u001b[0;36mIndex._raise_if_missing\u001b[0;34m(self, key, indexer, axis_name)\u001b[0m\n\u001b[1;32m   6247\u001b[0m \u001b[38;5;28;01mif\u001b[39;00m nmissing:\n\u001b[1;32m   6248\u001b[0m     \u001b[38;5;28;01mif\u001b[39;00m nmissing \u001b[38;5;241m==\u001b[39m \u001b[38;5;28mlen\u001b[39m(indexer):\n\u001b[0;32m-> 6249\u001b[0m         \u001b[38;5;28;01mraise\u001b[39;00m \u001b[38;5;167;01mKeyError\u001b[39;00m(\u001b[38;5;124mf\u001b[39m\u001b[38;5;124m\"\u001b[39m\u001b[38;5;124mNone of [\u001b[39m\u001b[38;5;132;01m{\u001b[39;00mkey\u001b[38;5;132;01m}\u001b[39;00m\u001b[38;5;124m] are in the [\u001b[39m\u001b[38;5;132;01m{\u001b[39;00maxis_name\u001b[38;5;132;01m}\u001b[39;00m\u001b[38;5;124m]\u001b[39m\u001b[38;5;124m\"\u001b[39m)\n\u001b[1;32m   6251\u001b[0m     not_found \u001b[38;5;241m=\u001b[39m \u001b[38;5;28mlist\u001b[39m(ensure_index(key)[missing_mask\u001b[38;5;241m.\u001b[39mnonzero()[\u001b[38;5;241m0\u001b[39m]]\u001b[38;5;241m.\u001b[39munique())\n\u001b[1;32m   6252\u001b[0m     \u001b[38;5;28;01mraise\u001b[39;00m \u001b[38;5;167;01mKeyError\u001b[39;00m(\u001b[38;5;124mf\u001b[39m\u001b[38;5;124m\"\u001b[39m\u001b[38;5;132;01m{\u001b[39;00mnot_found\u001b[38;5;132;01m}\u001b[39;00m\u001b[38;5;124m not in index\u001b[39m\u001b[38;5;124m\"\u001b[39m)\n",
      "\u001b[0;31mKeyError\u001b[0m: \"None of [Index(['age', 'gender', 'bmi', 'waist_circumference', 'blood_pressure',\\n       'cholesterol', 'triglycerides'],\\n      dtype='object')] are in the [columns]\""
     ]
    }
   ],
   "source": [
    "from sklearn.model_selection import train_test_split\n",
    "from sklearn.ensemble import RandomForestRegressor\n",
    "from sklearn.multioutput import MultiOutputRegressor\n",
    "from sklearn.metrics import mean_squared_error\n",
    "\n",
    "# Drop non-routinely collected clinical assessments\n",
    "columns_to_remove = [\"cotinine\", \"hs-crp\", \"iron\", \"ferritin\", \"fasting_insulin\"]\n",
    "filtered_columns = [col for col in merged_df.columns if not any(exclude in col.lower() for exclude in columns_to_remove)]\n",
    "\n",
    "# Define the selected feature set\n",
    "selected_features = [\n",
    "    \"age\", \"gender\", \"bmi\", \"waist_circumference\", \n",
    "    \"blood_pressure\", \"cholesterol\", \"triglycerides\"\n",
    "]\n",
    "\n",
    "# Include dietary intake data if available\n",
    "dietary_features = [col for col in merged_df.columns if \"dietary\" in col.lower()]\n",
    "selected_features.extend(dietary_features)\n",
    "\n",
    "# Ensure only selected features are used\n",
    "X = merged_df[selected_features]\n",
    "y = merged_df[[\"lbxglu\", \"lbxgh\"]]  # Multi-output target\n",
    "\n",
    "# Drop rows with missing values\n",
    "X = X.dropna()\n",
    "y = y.loc[X.index]  # Align target with feature rows\n",
    "\n",
    "# Split data\n",
    "X_train, X_test, y_train, y_test = train_test_split(X, y, test_size=0.2, random_state=42)\n",
    "\n",
    "# Train a multi-output regression model\n",
    "base_model = RandomForestRegressor(n_estimators=100, random_state=42)\n",
    "model = MultiOutputRegressor(base_model)\n",
    "model.fit(X_train, y_train)\n",
    "\n",
    "# Predict on test data\n",
    "y_pred = model.predict(X_test)\n",
    "\n",
    "# Calculate mean squared error for both targets\n",
    "glu_mse = mean_squared_error(y_test[\"lbxglu\"], y_pred[:, 0])\n",
    "gh_mse = mean_squared_error(y_test[\"lbxgh\"], y_pred[:, 1])\n",
    "\n",
    "print(f\"Fasting Glucose (lbxglu) MSE: {glu_mse:.4f}\")\n",
    "print(f\"Glycohemoglobin (lbxgh) MSE: {gh_mse:.4f}\")"
   ]
  },
  {
   "cell_type": "code",
   "execution_count": 5,
   "metadata": {},
   "outputs": [
    {
     "name": "stdout",
     "output_type": "stream",
     "text": [
      "Columns in merged_df:\n",
      "['seqn', 'wtsafprp', 'lbxglu', 'lbdglusi', 'lbxgh', 'lbxsatsi', 'lbdsatlc', 'lbxsal', 'lbdsalsi', 'lbxsapsi', 'lbxsassi', 'lbxsc3si', 'lbxsbu', 'lbdsbusi', 'lbxsclsi', 'lbxsck', 'lbxscr', 'lbdscrsi', 'lbxsgb', 'lbdsgbsi', 'lbxsgl', 'lbdsglsi', 'lbxsgtsi', 'lbdsgtlc', 'lbxsir', 'lbdsirsi', 'lbxsldsi', 'lbxsossi', 'lbxsph', 'lbdsphsi', 'lbxsksi', 'lbxsnasi', 'lbxstb', 'lbdstbsi', 'lbdstblc', 'lbxsca', 'lbdscasi', 'lbxsch', 'lbdschsi', 'lbxstp', 'lbdstpsi', 'lbxstr', 'lbdstrsi', 'lbxsua', 'lbdsuasi', 'lbxirn', 'lbdirnsi', 'lbxuib', 'lbduiblc', 'lbduibsi', 'lbdtib', 'lbdtibsi', 'lbdpct', 'lbxhscrp', 'lbdhrplc', 'lbxcot', 'lbdcotlc', 'lbxhcot', 'lbdhcolc']\n"
     ]
    }
   ],
   "source": [
    "# Display all column names in merged_df\n",
    "print(\"Columns in merged_df:\")\n",
    "print(merged_df.columns.tolist())"
   ]
  },
  {
   "cell_type": "code",
   "execution_count": null,
   "metadata": {},
   "outputs": [],
   "source": []
  }
 ],
 "metadata": {
  "kernelspec": {
   "display_name": "3.10.12",
   "language": "python",
   "name": "python3"
  },
  "language_info": {
   "codemirror_mode": {
    "name": "ipython",
    "version": 3
   },
   "file_extension": ".py",
   "mimetype": "text/x-python",
   "name": "python",
   "nbconvert_exporter": "python",
   "pygments_lexer": "ipython3",
   "version": "3.10.12"
  }
 },
 "nbformat": 4,
 "nbformat_minor": 2
}
