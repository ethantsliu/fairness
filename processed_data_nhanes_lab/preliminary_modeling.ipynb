{
 "cells": [
  {
   "cell_type": "code",
   "execution_count": 4,
   "metadata": {},
   "outputs": [
    {
     "name": "stdout",
     "output_type": "stream",
     "text": [
      "Data merged successfully. Shape: (0, 77)\n"
     ]
    }
   ],
   "source": [
    "import os\n",
    "import pandas as pd\n",
    "\n",
    "# Define file paths\n",
    "data_dir = \"/Users/aakashsuresh/fairness/processed_data_nhanes_lab/\"\n",
    "files_to_load = [\n",
    "    \"fasting_questionnaire_processed.csv\",\n",
    "    \"fasting_glucose_processed.csv\",\n",
    "    \"glycohemoglobin_processed.csv\",\n",
    "    \"biochemistry_profile_processed.csv\",\n",
    "    \"iron_status_processed.csv\",\n",
    "    \"c_reactive_protein_processed.csv\",\n",
    "    \"cotinine_processed.csv\",\n",
    "]\n",
    "\n",
    "# Load dataframes into a dictionary\n",
    "dataframes = {}\n",
    "for file in files_to_load:\n",
    "    file_path = os.path.join(data_dir, file)\n",
    "    df_name = file.replace(\"_processed.csv\", \"\")\n",
    "    dataframes[df_name] = pd.read_csv(file_path)\n",
    "\n",
    "# Merge datasets on SEQN (NHANES unique identifier)\n",
    "merged_df = dataframes[\"fasting_questionnaire\"]\n",
    "for name, df in dataframes.items():\n",
    "    if name != \"fasting_questionnaire\":\n",
    "        merged_df = pd.merge(merged_df, df, on=\"seqn\", how=\"inner\")\n",
    "\n",
    "# Standardize column names to lowercase\n",
    "df.columns = df.columns.str.strip().str.lower()\n",
    "\n",
    "print(\"Data merged successfully. Shape:\", merged_df.shape)\n"
   ]
  },
  {
   "cell_type": "code",
   "execution_count": 6,
   "metadata": {},
   "outputs": [
    {
     "name": "stdout",
     "output_type": "stream",
     "text": [
      "fasting_questionnaire - SEQN dtype: object, Unique count: 0, Total rows: 0\n",
      "fasting_glucose - SEQN dtype: float64, Unique count: 4744, Total rows: 4744\n",
      "glycohemoglobin - SEQN dtype: float64, Unique count: 9737, Total rows: 9737\n",
      "biochemistry_profile - SEQN dtype: float64, Unique count: 9258, Total rows: 9258\n",
      "iron_status - SEQN dtype: float64, Unique count: 9453, Total rows: 9453\n",
      "c_reactive_protein - SEQN dtype: float64, Unique count: 11614, Total rows: 11614\n",
      "cotinine - SEQN dtype: float64, Unique count: 11395, Total rows: 11395\n"
     ]
    }
   ],
   "source": [
    "for name, df in dataframes.items():\n",
    "    print(f\"{name} - SEQN dtype: {df['seqn'].dtype}, Unique count: {df['seqn'].nunique()}, Total rows: {len(df)}\")"
   ]
  },
  {
   "cell_type": "code",
   "execution_count": 7,
   "metadata": {},
   "outputs": [],
   "source": [
    "# Remove fasting_questionnaire temporarily because it has no unique counts \n",
    "del dataframes[\"fasting_questionnaire\"]\n"
   ]
  },
  {
   "cell_type": "markdown",
   "metadata": {},
   "source": [
    "### Re-Merge because of problems before, handle missing data and scale it once handled "
   ]
  },
  {
   "cell_type": "code",
   "execution_count": 9,
   "metadata": {},
   "outputs": [
    {
     "name": "stdout",
     "output_type": "stream",
     "text": [
      "Data merged successfully. Shape: (4526, 59)\n",
      "Data cleaned and scaled.\n"
     ]
    }
   ],
   "source": [
    "import pandas as pd\n",
    "from sklearn.preprocessing import StandardScaler\n",
    "\n",
    "# Merge remaining datasets on 'seqn' (ignoring fasting_questionnaire)\n",
    "merged_df = None\n",
    "\n",
    "# Iterate and merge all datasets\n",
    "for name, df in dataframes.items():\n",
    "    if merged_df is None:\n",
    "        merged_df = df  # Initialize with the first dataset\n",
    "    else:\n",
    "        merged_df = pd.merge(merged_df, df, on=\"seqn\", how=\"inner\")\n",
    "\n",
    "print(f\"Data merged successfully. Shape: {merged_df.shape}\")\n",
    "\n",
    "# Drop rows with missing values after merge\n",
    "merged_df = merged_df.dropna()\n",
    "\n",
    "# Standardize numeric columns\n",
    "scaler = StandardScaler()\n",
    "numeric_cols = merged_df.select_dtypes(include=[\"float64\", \"int64\"]).columns\n",
    "merged_df[numeric_cols] = scaler.fit_transform(merged_df[numeric_cols])\n",
    "\n",
    "print(\"Data cleaned and scaled.\")"
   ]
  },
  {
   "cell_type": "markdown",
   "metadata": {},
   "source": [
    "### Check to see if we are ready for modeling "
   ]
  },
  {
   "cell_type": "code",
   "execution_count": 10,
   "metadata": {},
   "outputs": [
    {
     "name": "stdout",
     "output_type": "stream",
     "text": [
      "       seqn  wtsafprp    lbxglu  lbdglusi     lbxgh  lbxsatsi  lbdsatlc  \\\n",
      "0 -1.766579 -0.442652 -0.395739 -0.397905 -0.445597 -0.679824       0.0   \n",
      "1 -1.765016 -0.578612 -0.229418 -0.228153 -0.173587 -0.679824       0.0   \n",
      "2 -1.764346 -0.604835  1.184315  1.184782 -0.082917 -0.121378       0.0   \n",
      "3 -1.763676 -0.374949 -0.534341 -0.532708 -0.445597 -0.527521       0.0   \n",
      "4 -1.762559  0.299318 -0.451180 -0.452825 -0.264257 -0.222914       0.0   \n",
      "\n",
      "     lbxsal  lbdsalsi  lbxsapsi  ...  lbduibsi    lbdtib  lbdtibsi    lbdpct  \\\n",
      "0  0.754519  0.754519  1.679067  ...  1.352088  1.550569  1.550056 -0.638062   \n",
      "1 -0.685539 -0.685539 -0.004073  ... -0.281707 -0.824683 -0.825171 -0.389914   \n",
      "2 -0.109516 -0.109516 -0.785531  ... -0.913200 -1.369823 -1.369788  0.189099   \n",
      "3  0.754519  0.754519  1.298357  ...  1.336602  1.180653  1.180455 -0.968926   \n",
      "4  0.754519  0.754519 -0.284596  ...  0.319674 -0.123789 -0.124017 -0.720778   \n",
      "\n",
      "   lbxhscrp  lbdhrplc    lbxcot  lbdcotlc   lbxhcot  lbdhcolc  \n",
      "0 -0.498703  7.601264 -0.413056 -0.705116 -0.347556  0.949989  \n",
      "1  3.228526 -0.131557  2.609282 -0.705116  0.834789 -1.052643  \n",
      "2 -0.304318 -0.131557 -0.413048 -0.705116 -0.347358 -1.052643  \n",
      "3 -0.192123 -0.131557 -0.413116  1.418207 -0.347556  0.949989  \n",
      "4 -0.107324 -0.131557 -0.412777 -0.705116 -0.347376 -1.052643  \n",
      "\n",
      "[5 rows x 59 columns]\n",
      "Final shape: (4526, 59)\n",
      "Columns: Index(['seqn', 'wtsafprp', 'lbxglu', 'lbdglusi', 'lbxgh', 'lbxsatsi',\n",
      "       'lbdsatlc', 'lbxsal', 'lbdsalsi', 'lbxsapsi', 'lbxsassi', 'lbxsc3si',\n",
      "       'lbxsbu', 'lbdsbusi', 'lbxsclsi', 'lbxsck', 'lbxscr', 'lbdscrsi',\n",
      "       'lbxsgb', 'lbdsgbsi', 'lbxsgl', 'lbdsglsi', 'lbxsgtsi', 'lbdsgtlc',\n",
      "       'lbxsir', 'lbdsirsi', 'lbxsldsi', 'lbxsossi', 'lbxsph', 'lbdsphsi',\n",
      "       'lbxsksi', 'lbxsnasi', 'lbxstb', 'lbdstbsi', 'lbdstblc', 'lbxsca',\n",
      "       'lbdscasi', 'lbxsch', 'lbdschsi', 'lbxstp', 'lbdstpsi', 'lbxstr',\n",
      "       'lbdstrsi', 'lbxsua', 'lbdsuasi', 'lbxirn', 'lbdirnsi', 'lbxuib',\n",
      "       'lbduiblc', 'lbduibsi', 'lbdtib', 'lbdtibsi', 'lbdpct', 'lbxhscrp',\n",
      "       'lbdhrplc', 'lbxcot', 'lbdcotlc', 'lbxhcot', 'lbdhcolc'],\n",
      "      dtype='object')\n"
     ]
    }
   ],
   "source": [
    "print(merged_df.head())\n",
    "print(f\"Final shape: {merged_df.shape}\")\n",
    "print(f\"Columns: {merged_df.columns}\")"
   ]
  },
  {
   "cell_type": "markdown",
   "metadata": {},
   "source": [
    "### Preliminary Modeling for Diabetes "
   ]
  },
  {
   "cell_type": "code",
   "execution_count": 12,
   "metadata": {},
   "outputs": [
    {
     "name": "stdout",
     "output_type": "stream",
     "text": [
      "Fasting Glucose (lbxglu) MSE: 0.0125\n",
      "Glycohemoglobin (lbxgh) MSE: 0.2455\n"
     ]
    }
   ],
   "source": [
    "from sklearn.model_selection import train_test_split\n",
    "from sklearn.ensemble import RandomForestRegressor\n",
    "from sklearn.multioutput import MultiOutputRegressor\n",
    "from sklearn.metrics import mean_squared_error\n",
    "\n",
    "# Define features and target variables\n",
    "X = merged_df.drop(columns=[\"lbxglu\", \"lbxgh\"])  # Drop target columns from features\n",
    "y = merged_df[[\"lbxglu\", \"lbxgh\"]]  # Multi-output target\n",
    "\n",
    "# Drop rows with missing target values\n",
    "X = X.dropna()\n",
    "y = y.loc[X.index]  # Align target with feature rows\n",
    "\n",
    "# Split data\n",
    "X_train, X_test, y_train, y_test = train_test_split(X, y, test_size=0.2, random_state=42)\n",
    "\n",
    "# Train a multi-output regression model\n",
    "base_model = RandomForestRegressor(n_estimators=100, random_state=42)\n",
    "model = MultiOutputRegressor(base_model)\n",
    "model.fit(X_train, y_train)\n",
    "\n",
    "# Predict on test data\n",
    "y_pred = model.predict(X_test)\n",
    "\n",
    "# Calculate mean squared error for both targets\n",
    "glu_mse = mean_squared_error(y_test[\"lbxglu\"], y_pred[:, 0])\n",
    "gh_mse = mean_squared_error(y_test[\"lbxgh\"], y_pred[:, 1])\n",
    "\n",
    "print(f\"Fasting Glucose (lbxglu) MSE: {glu_mse:.4f}\")\n",
    "print(f\"Glycohemoglobin (lbxgh) MSE: {gh_mse:.4f}\")"
   ]
  }
 ],
 "metadata": {
  "kernelspec": {
   "display_name": "3.10.12",
   "language": "python",
   "name": "python3"
  },
  "language_info": {
   "codemirror_mode": {
    "name": "ipython",
    "version": 3
   },
   "file_extension": ".py",
   "mimetype": "text/x-python",
   "name": "python",
   "nbconvert_exporter": "python",
   "pygments_lexer": "ipython3",
   "version": "3.10.12"
  }
 },
 "nbformat": 4,
 "nbformat_minor": 2
}
